{
  "cells": [
    {
      "cell_type": "markdown",
      "metadata": {
        "id": "view-in-github",
        "colab_type": "text"
      },
      "source": [
        "<a href=\"https://colab.research.google.com/github/shinnew9/llms_from_scratch/blob/main/Llama3_from_scratch.ipynb\" target=\"_parent\"><img src=\"https://colab.research.google.com/assets/colab-badge.svg\" alt=\"Open In Colab\"/></a>"
      ]
    },
    {
      "cell_type": "markdown",
      "metadata": {
        "id": "8rLO9hiZIqFG"
      },
      "source": [
        "https://medium.com/towards-artificial-intelligence/build-your-own-llama-3-architecture-from-scratch-using-pytorch-2ce1ecaa901c"
      ]
    },
    {
      "cell_type": "markdown",
      "metadata": {
        "id": "qHAsHYaYPkCk"
      },
      "source": [
        "### Import necessary libraries"
      ]
    },
    {
      "cell_type": "code",
      "execution_count": null,
      "metadata": {
        "colab": {
          "base_uri": "https://localhost:8080/"
        },
        "id": "rJ4bxUgqCdFv",
        "outputId": "9d016ded-a501-4a8d-9d55-4f9129840ea6"
      },
      "outputs": [
        {
          "name": "stdout",
          "output_type": "stream",
          "text": [
            "Mounted at /content/drive\n"
          ]
        }
      ],
      "source": [
        "from google.colab import drive\n",
        "drive.mount('/content/drive')"
      ]
    },
    {
      "cell_type": "code",
      "execution_count": null,
      "metadata": {
        "id": "aU53-bNgPgz7"
      },
      "outputs": [],
      "source": [
        "# Import necessary libraries\n",
        "import os\n",
        "import torch\n",
        "from torch import nn\n",
        "from torch.nn import functional as F\n",
        "\n",
        "import math\n",
        "import numpy as np\n",
        "import time\n",
        "from dataclasses import dataclass\n",
        "from typing import Optional, Tuple, List\n",
        "import pandas as pd\n",
        "from matplotlib import pyplot as plt\n",
        "\n",
        "# file_path = os.listdir(\"/content/drive/MyDrive/AI\")"
      ]
    },
    {
      "cell_type": "code",
      "execution_count": null,
      "metadata": {
        "colab": {
          "base_uri": "https://localhost:8080/"
        },
        "id": "RcfONytED16I",
        "outputId": "a50110a9-51fe-47c0-b866-d2d49ca07352"
      },
      "outputs": [
        {
          "name": "stdout",
          "output_type": "stream",
          "text": [
            "/content\n"
          ]
        }
      ],
      "source": [
        "!pwd"
      ]
    },
    {
      "cell_type": "markdown",
      "metadata": {
        "id": "Tojlkf-wPopZ"
      },
      "source": [
        "### Step 1: Input Block"
      ]
    },
    {
      "cell_type": "code",
      "execution_count": null,
      "metadata": {
        "colab": {
          "base_uri": "https://localhost:8080/",
          "height": 54
        },
        "id": "qbUTysH922HD",
        "outputId": "7cb897a3-aad0-415b-c1a9-83587416b8a1"
      },
      "outputs": [
        {
          "data": {
            "application/vnd.google.colaboratory.intrinsic+json": {
              "type": "string"
            },
            "text/plain": [
              "\"\\nLength of shakespeare in character: 1115394\\nThe vocabulary looks like this:\\n!$&',-.3:;?ABCDEFGHIJKLMNOPQRSTUVWXYZabcdefghijklmnopqrstuvwxyz<|begin_of_text|><|end_of_text|><|pad_id|>\\n\\nVocab Size: 68\\nencoded_tokens: [20, 43, 50, 50, 53, 1, 35, 53, 56, 50, 42]\\ndecoded_text: Hello World\\n\""
            ]
          },
          "execution_count": 4,
          "metadata": {},
          "output_type": "execute_result"
        }
      ],
      "source": [
        "# Step 1: Input Block\n",
        "# Using Tiny Shakespeare dataset for character-level tokenizer. Some part of the following character-level tokenizer is referenced from Andrej karpathy's GitHub( https://github.com/karpathy/nanoGPT/blob/master/data/shakespeare_char/prepare.py) which I found is explained very well.\n",
        "# Load tiny_shakespeare data file (https://github.com/tamangmilan/llama3/blob/main/tiny_shakespeare.txt)\n",
        "\n",
        "device: str = 'cuda' if torch.cuda.is_available() else 'cpu'   # Assign device to cuda or cpu based on availability\n",
        "\n",
        "# Load tiny_shakespeare data file.\n",
        "with open('/content/drive/MyDrive/AI/tiny_shakespeare.txt', 'r') as f:\n",
        "  data = f.read()\n",
        "\n",
        "# Prepare vocabulary by taking all the unique characters from tiny_shakespeare data\n",
        "vocab = sorted(list(set(data)))\n",
        "\n",
        "# Training Llama3 model requires additional tokens such as <|begin_of_text|>, <|end_of_text|> and <|pad_id|>, we'll add them into vocabulary\n",
        "vocab.extend(['<|begin_of_text|>', '<|end_of_text|>', '<|pad_id|>'])\n",
        "vocab_size = len(vocab)\n",
        "\n",
        "# Create a mapping between characters with corresponding integer indexes in vocabulary.\n",
        "# This is important to build tokenizers encode and decode functions.\n",
        "itos = {i:ch for i, ch in enumerate(vocab)}\n",
        "stoi = {ch:i for i, ch in enumerate(vocab)}\n",
        "\n",
        "# Tokenizers encode function: take a string, output a list of integers\n",
        "def encode(s):\n",
        "  return [stoi[ch] for ch in s]\n",
        "\n",
        "# Tokenizers decode function: take a list of integers, output a string\n",
        "def decode(l):\n",
        "  return ''.join(itos[i] for i in l)\n",
        "\n",
        "# Define tensor token variable to be used later during model training\n",
        "token_bos = torch.tensor([stoi['<|begin_of_text|>']], dtype=torch.int, device=device)\n",
        "token_eos = torch.tensor([stoi['<|end_of_text|>']], dtype=torch.int, device=device)\n",
        "token_pad = torch.tensor([stoi['<|pad_id|>']], dtype=torch.int, device=device)\n",
        "\n",
        "prompts = \"Hello World\"\n",
        "encoded_tokens = encode(prompts)\n",
        "decoded_tokens = decode(encoded_tokens)\n",
        "\n",
        "### Test: Input Block Code ###\n",
        "# You need to take out the tirple quotes below to perform testing\n",
        "\"\"\"\n",
        "print(f\"Length of shakespeare in character: {len(data)}\")\n",
        "print(f\"The vocabulary looks like this: {''.join(vocab)}\\n\")\n",
        "print(f\"Vocab Size: {vocab_size}\")\n",
        "print(f\"encoded_tokens: {encoded_tokens}\")\n",
        "print(f\"decoded_tokens: {decoded_tokens}\")\n",
        "\"\"\"\n",
        "\n",
        "### Test Results: ###\n",
        "\"\"\"\n",
        "Length of shakespeare in character: 1115394\n",
        "The vocabulary looks like this:\n",
        "!$&',-.3:;?ABCDEFGHIJKLMNOPQRSTUVWXYZabcdefghijklmnopqrstuvwxyz<|begin_of_text|><|end_of_text|><|pad_id|>\n",
        "\n",
        "Vocab Size: 68\n",
        "encoded_tokens: [20, 43, 50, 50, 53, 1, 35, 53, 56, 50, 42]\n",
        "decoded_text: Hello World\n",
        "\"\"\""
      ]
    },
    {
      "cell_type": "markdown",
      "metadata": {
        "id": "nj13zeVmrLXS"
      },
      "source": [
        "### Step 2: The Decoder Block"
      ]
    },
    {
      "cell_type": "code",
      "execution_count": null,
      "metadata": {
        "id": "RowNZDeSEWiu"
      },
      "outputs": [],
      "source": [
        "# Step 2: The Decoder Block\n",
        "# Note: Since the Llama 3 model is developed by Meta, so to be in sync with their codebase and for future compatibility,\n",
        "# I will use most of the code from Meta GitHub with some necessary changes required to achieve our goal.\n",
        "\n",
        "\n",
        "# Define parameters dataclass: we'll use these parameters during model building, training and inference.\n",
        "# Note: Since we want to see the results of training and inferencing faster rather than focusing on high accuracy, we're taking lower values for most of parameters which are set higher in the Llama 3 model.\n",
        "\n",
        "\n",
        "@dataclass\n",
        "class ModelArgs:\n",
        "  dim: int= 512           # embedding dimension\n",
        "  n_layers: int = 8       # number of model decoder blocks\n",
        "  n_heads: int = 8        # number of heads for queries embedding\n",
        "  n_kv_heads: int = 4     # number of heads for keys and values embedding\n",
        "  vocab_size: int = len(vocab)  # Length of vocabulary\n",
        "  multiple_of: int = 256        # Require to calculate dim of feedforward network\n",
        "  ffn_dim_multiplier: Optional[float] = None  # Require to calculate dime of feedforward network\n",
        "  norm_eps: float = 1e-5        # Default Epsilon value set for the RMSNorm calculation\n",
        "  rope_theta: float = 10000.0   # Default theta value for the RePE calculation\n",
        "\n",
        "  max_batch_size: int = 10      # Max batch size\n",
        "  max_seq_len: int = 256        # Max sequence length\n",
        "\n",
        "  epochs: int = 2500            # Total number of training iteration\n",
        "  log_interval: int = 10        # Number of interval to print to logs and loss values\n",
        "  device: str = 'cuda' if torch.cuda.is_available() else 'cpu'   # Assign device to cuda or cpu based on availabtility"
      ]
    },
    {
      "cell_type": "code",
      "execution_count": null,
      "metadata": {
        "colab": {
          "base_uri": "https://localhost:8080/",
          "height": 35
        },
        "id": "9lRxwvkAIB-S",
        "outputId": "125c776d-18c1-4c7b-b6cf-a76bd32402d9"
      },
      "outputs": [
        {
          "data": {
            "application/vnd.google.colaboratory.intrinsic+json": {
              "type": "string"
            },
            "text/plain": [
              "'\\nShape of x: torch.Size([10, 256, 512])\\nShape of x_norm: torch.Size([10, 256, 512])\\n'"
            ]
          },
          "execution_count": 6,
          "metadata": {},
          "output_type": "execute_result"
        }
      ],
      "source": [
        "# Step 2a: The RMSNorm\n",
        "class RMSNorm(nn.Module):\n",
        "  def __init__(self, dim: int, eps: float= 1e-6):\n",
        "    super().__init__()\n",
        "    device = ModelArgs.device\n",
        "    self.eps = eps\n",
        "    # Scaling parameter gamma, initialized with one and the no of parameters is euql to the size of dim\n",
        "    self.weight = nn.Parameter(torch.ones(dim).to(device))\n",
        "\n",
        "  def _norm(self, x):\n",
        "    return x*torch.rsqrt(x.pow(2).mean(dim=-1, keepdim=True)+ self.eps).to(device)\n",
        "\n",
        "  def forward(self, x):\n",
        "    # Shape: x[bs, seq, dim]\n",
        "    output = self._norm(x.float()).type_as(x)\n",
        "\n",
        "    # Shape: x[bs, seq, dim] -> x_norm[bs, seq, dim]\n",
        "    return output*self.weight\n",
        "\n",
        "### Test: RMSNorm Code ###\n",
        "# You need take out the triple quotes below to perform testing\n",
        "\"\"\"\n",
        "x = torch.randn((ModelArgs.max_batch_size, ModelArgs.max_seq_len, ModelArgs.dim))\n",
        "rms_norm = RMSNorm(dim=ModelArgs.dim)\n",
        "x_norm = rms_norm(x)\n",
        "\n",
        "print(f\"Shape of x: {x.shape}\")\n",
        "print(f\"Shape of x_norm: {x_norm.shape}\")\n",
        "\"\"\"\n",
        "\n",
        "### Test Results: ###\n",
        "\"\"\"\n",
        "Shape of x: torch.Size([10, 256, 512])\n",
        "Shape of x_norm: torch.Size([10, 256, 512])\n",
        "\"\"\""
      ]
    },
    {
      "cell_type": "code",
      "execution_count": null,
      "metadata": {
        "colab": {
          "base_uri": "https://localhost:8080/",
          "height": 54
        },
        "id": "YW2iK5jzL68_",
        "outputId": "631dd6b3-6276-4b3c-a297-73eb0de4bfaa"
      },
      "outputs": [
        {
          "data": {
            "application/vnd.google.colaboratory.intrinsic+json": {
              "type": "string"
            },
            "text/plain": [
              "'\\nxq.shape: torch.Size([10, 256, 512])\\nxk.shape: torch.Size([10, 256, 256])\\nxq.re-shape: torch.Size([10, 256, 8, 64])\\nxk.re-shape: torch.Size([10, 256, 4, 64])\\nfreqs_cis.shape: torch.Size([256, 32])\\nxq_rotate.shape: torch.Size([10, 256, 8, 64])\\nxk_rotate.shape: torch.Size([10, 256, 4, 64])\\n'"
            ]
          },
          "execution_count": 7,
          "metadata": {},
          "output_type": "execute_result"
        }
      ],
      "source": [
        "## Step2b: The RoPE\n",
        "def precompute_freqs_cis(dim:int, seq_len: int, theta: float=10000.0):\n",
        "  # Computing Theta value for each dim pair which is dim/2\n",
        "  device = ModelArgs.device\n",
        "  freqs = 1.0 / (theta ** (torch.arange(0, dim, 2,device=device)[:(dim//2)].float()/dim))\n",
        "\n",
        "  # Computing range of positions(m) in the sequence\n",
        "  t = torch.arange(seq_len, dtype=torch.float32, device=device)\n",
        "\n",
        "  # freqs gives all the Theta value range for all the position of tokens in the sequence\n",
        "  freqs = torch.outer(t, freqs).to(device)\n",
        "\n",
        "  # This is the rotation matrix which needs to be converted to Polar form in order to perform rotation to the embedding\n",
        "  freqs_cis = torch.polar(torch.ones_like(freqs).to(device), freqs).to(device)\n",
        "  return freqs_cis\n",
        "\n",
        "def reshape_for_broadcast(freqs_cis, x):\n",
        "  ndim = x.ndim\n",
        "  assert 0<=1<ndim\n",
        "  assert freqs_cis.shape == (x.shape[1],x.shape[-1]), \"the last two dimension of freqs_cis, x must match\"\n",
        "  shape = [d if i==1 or i==ndim-1 else 1 for i,d in enumerate(x.shape)]\n",
        "  return freqs_cis.view(*shape)\n",
        "\n",
        "def apply_rotary_emb(xq: torch.Tensor, xk: torch.Tensor, freqs_cis: torch.Tensor)->Tuple[torch.Tensor, torch.Tensor]:\n",
        "  device = ModelArgs.device\n",
        "  # Applying rotary positional encoding to both query and key embedding together\n",
        "  # First: The last dimension of xq and xk embedding needs to be reshaped to make it a pair. As rotation matrix is applied to each pair of dim.\n",
        "  # Next: convert both xq and xk to complex number as the rotation matrix is only applicable to complex number\n",
        "  xq_ = torch.view_as_complex(xq.float().reshape(*xq.shape[:-1], -1, 2)).to(device)    #xq_:[bsz, seq_len, n_heads, head_dim/2]\n",
        "  xk_ = torch.view_as_complex(xk.float().reshape(*xk.shape[:-1], -1, 2)).to(device)    #xk_:[bsz, seq_len, n_heads, head_dim/2]\n",
        "\n",
        "  # The rotation matrix(freqs_cis) dimensions across seq_len(dim=1) and head_dim(dim=3) should match with the embedding\n",
        "  # Also, the shape freqs_cis should be the same with xq and xk, hence change the shape of freqs_cis:[seq_len,head_dim] -> freqs_cis:[1,seq_len,1,head_dim]\n",
        "  freqs_cis = reshape_for_broadcast(freqs_cis, xq_)\n",
        "\n",
        "  #Finally, perform rotation operation by multiplying with freqs_cis.\n",
        "  #After the rotation is completed, convert both xq_out and xk_out back to real number and return\n",
        "  xq_out = torch.view_as_real(xq_ * freqs_cis).flatten(3).to(device) #xq_out:[bsz, seq_len, n_heads, head_dim]\n",
        "  xk_out = torch.view_as_real(xk_ * freqs_cis).flatten(3).to(device) #xk_out:[bsz, seq_len, n_heads, head_dim]\n",
        "  return xq_out.type_as(xq), xk_out.type_as(xk)\n",
        "\n",
        "### Test: RoPE Code ###\n",
        "# Note: x_norm is calculated during RMSNorm and is being used for testing here.\n",
        "# You need take out the triple quotes below to perform testing\n",
        "\"\"\"\n",
        "head_dim = ModelArgs.dim//ModelArgs.n_heads\n",
        "wq = nn.Linear(ModelArgs.dim, ModelArgs.n_heads * head_dim, bias=False, device=device)\n",
        "wk = nn.Linear(ModelArgs.dim, ModelArgs.n_kv_heads * head_dim, bias=False, device=device)\n",
        "xq = wq(x_norm)\n",
        "xk = wk(x_norm)\n",
        "print(f\"xq.shape: {xq.shape}\")\n",
        "print(f\"xk.shape: {xk.shape}\")\n",
        "\n",
        "xq = xq.view(xq.shape[0],xq.shape[1],ModelArgs.n_heads, head_dim)\n",
        "xk = xk.view(xk.shape[0],xk.shape[1],ModelArgs.n_kv_heads, head_dim)\n",
        "print(f\"xq.re-shape: {xq.shape}\")\n",
        "print(f\"xk.re-shape: {xk.shape}\")\n",
        "\n",
        "freqs_cis = precompute_freqs_cis(dim=head_dim, seq_len=ModelArgs.max_seq_len)\n",
        "print(f\"freqs_cis.shape: {freqs_cis.shape}\")\n",
        "\n",
        "xq_rotate, xk_rotate = apply_rotary_emb(xq, xk, freqs_cis)\n",
        "print(f\"xq_rotate.shape: {xq_rotate.shape}\")\n",
        "print(f\"xk_rotate.shape: {xk_rotate.shape}\")\n",
        "\"\"\"\n",
        "### Test Results: ###\n",
        "\"\"\"\n",
        "xq.shape: torch.Size([10, 256, 512])\n",
        "xk.shape: torch.Size([10, 256, 256])\n",
        "xq.re-shape: torch.Size([10, 256, 8, 64])\n",
        "xk.re-shape: torch.Size([10, 256, 4, 64])\n",
        "freqs_cis.shape: torch.Size([256, 32])\n",
        "xq_rotate.shape: torch.Size([10, 256, 8, 64])\n",
        "xk_rotate.shape: torch.Size([10, 256, 4, 64])\n",
        "\"\"\""
      ]
    },
    {
      "cell_type": "markdown",
      "metadata": {
        "id": "TSkc7ZCHPemX"
      },
      "source": [
        "### Step 2c: The Attention Block [Step2c: The KV Cache, Group Query Attention]\n"
      ]
    },
    {
      "cell_type": "code",
      "execution_count": null,
      "metadata": {
        "colab": {
          "base_uri": "https://localhost:8080/",
          "height": 35
        },
        "id": "RvQL_fZ-VGW5",
        "outputId": "c86af216-1217-4168-b8bb-8ee2b9937e6c"
      },
      "outputs": [
        {
          "data": {
            "application/vnd.google.colaboratory.intrinsic+json": {
              "type": "string"
            },
            "text/plain": [
              "'\\nxk.shape: torch.Size([10, 256, 4, 64])\\nkeys.shape: torch.Size([10, 256, 8, 64])\\nx_out.shape: torch.Size([10, 256, 512])\\n'"
            ]
          },
          "execution_count": 8,
          "metadata": {},
          "output_type": "execute_result"
        }
      ],
      "source": [
        "## The Attention Block [Step2c: The KV Cache; Step2d: Group Query Attention]\n",
        "## As mentioned before, the naming convention follows original the meta's LLama3 GitHub\n",
        "\n",
        "class Attention(nn.Module):\n",
        "  def __init__(self, args: ModelArgs):\n",
        "    super().__init__()\n",
        "    self.args = args\n",
        "    # Embedding dimension\n",
        "    self.dim = args.dim\n",
        "    # Number of heads assigned to Query\n",
        "    self.n_heads = args.n_heads\n",
        "    # Number of heads assigned to Key and values. If \"None\", the number will be same as Query.\n",
        "    self.n_kv_heads = args.n_heads if args.n_kv_heads is None else args.n_kv_heads\n",
        "    # Dimension of each head relative to model dimension\n",
        "    self.head_dim = args.dim // args.n_heads\n",
        "    # Number of repetition in order to make time Key, Value heads to match Query heads number\n",
        "    self.n_rep = args.n_heads // args.n_kv_heads\n",
        "\n",
        "    # Weight initialize for Keys, Querys, Values and Oupt. Notice that the out_feature value of weight for q and kv are based on it's heads\n",
        "    self.wq = nn.Linear(self.dim, self.n_heads * self.head_dim, bias=False, device=device)\n",
        "    self.wk = nn.Linear(self.dim, self.n_kv_heads * self.head_dim, bias=False, device=device)\n",
        "    self.wv = nn.Linear(self.dim, self.n_kv_heads * self.head_dim, bias=False, device=device)\n",
        "    self.wo = nn.Linear(self.n_heads * self.head_dim, self.dim, bias=False, device=device)\n",
        "\n",
        "    # Initialize caches to store Key, Values at start. (KV Cache Implementation)\n",
        "    self.cache_k = torch.zeros((args.max_batch_size, args.max_seq_len, self.n_kv_heads, self.head_dim), device=args.device)\n",
        "    self.cache_v = torch.zeros((args.max_batch_size, args.max_seq_len, self.n_kv_heads, self.head_dim), device=args.device)\n",
        "\n",
        "  def forward(self, x: torch.Tensor, start_pos, inference):\n",
        "    # Shape of the input embedding: [bsz,seq_len,dim]\n",
        "    bsz, seq_len, _ = x.shape\n",
        "    # Mask will be used during 'Training' and is not required for 'inference' due to the use of KV cache.\n",
        "    mask = None\n",
        "\n",
        "    xq = self.wq(x)  #x[bsz,seq_len,dim]*wq[dim,n_heads * head_dim] -> q[bsz,seq_len,n_heads * head_dim]\n",
        "    xk = self.wk(x)  #x[bsz,seq_len,dim]*wq[dim,n_kv_heads * head_dim] -> k[bsz,seq_len,n_kv_heads * head_dim]\n",
        "    xv = self.wv(x)  #x[bsz,seq_len,dim]*wq[dim,n_kv_heads * head_dim] -> v[bsz,seq_len,n_kv_heads * head_dim]\n",
        "\n",
        "    # Reshaping Querys, Keys and Values by their number of heads. (Group Query Attention Implementation)\n",
        "    xq = xq.view(bsz, seq_len, self.n_heads, self.head_dim)      #xq[bsz,seq_len,n_heads, head_dim]\n",
        "    xk = xk.view(bsz, seq_len, self.n_kv_heads, self.head_dim)   #xk[bsz,seq_len,n_kv_heads, head_dim]\n",
        "    xv = xv.view(bsz, seq_len, self.n_kv_heads, self.head_dim)   #xv[bsz,seq_len,n_kv_heads, head_dim]\n",
        "\n",
        "    # Model - Inference Mode: kv-cache is enabled at inference mode only.\n",
        "    if inference:\n",
        "      # Compute rotation matrix for each position in the sequence\n",
        "      freqs_cis = precompute_freqs_cis(dim=self.head_dim, seq_len=self.args.max_seq_len * 2)\n",
        "      # During inferencing, we should only take the rotation matrix range from the current position of the tokens.\n",
        "      freqs_cis = freqs_cis[start_pos : start_pos + seq_len]\n",
        "      # Apply RoPE to Queries and Keys embeddings\n",
        "      xq, xk = apply_rotary_emb(xq, xk, freqs_cis)\n",
        "\n",
        "      self.cache_k = self.cache_k.to(xq)\n",
        "      self.cache_v = self.cache_v.to(xq)\n",
        "      # Store Keys and Values token embedding into their respective cache [KV Cache Implementation]\n",
        "      self.cache_k[:bsz, start_pos:start_pos + seq_len] = xk\n",
        "      self.cache_v[:bsz, start_pos:start_pos + seq_len] = xv\n",
        "\n",
        "      # Assign all the previous tokens embeddings upto current tokens position to Keys and Values variable for Attention Calculation\n",
        "      keys = self.cache_k[:bsz, :start_pos + seq_len]\n",
        "      values = self.cache_v[:bsz, :start_pos + seq_len]\n",
        "\n",
        "      # At this point, they Keys and Values shape aren't same with Queries Embedding which has to be in order to computer attention score\n",
        "      # Use repeat_kv function to make Keys,Values shape same as queries shape\n",
        "      keys = repeat_kv(keys, self.n_rep)      #keys[bsz,seq_len,n_heads,head_dim]\n",
        "      values = repeat_kv(values, self.n_rep)  #values[bsz,seq_len,n_heads,head_dim]\n",
        "\n",
        "    # Mode - Training mode: KV-Cache not implemented\n",
        "    else:\n",
        "      # Compute rotation matrix and apply RoPE to queries and keys for for training.\n",
        "      freqs_cis = precompute_freqs_cis(dim=self.head_dim, seq_len=self.args.max_seq_len)\n",
        "\n",
        "      #xq[bsz,seq_len,n_heads, head_dim], xk[bsz,seq_len,n_heads, head_dim]\n",
        "      xq, xk = apply_rotary_emb(xq, xk, freqs_cis)\n",
        "\n",
        "      # Use repeat_kv function to make Keys,Values shape same as the queries shape\n",
        "      #keys[bsz,seq_len,n_heads,head_dim], #values[bsz,seq_len,n_heads,head_dim]\n",
        "      keys = repeat_kv(xk, self.n_rep)\n",
        "      values = repeat_kv(xv, self.n_rep)\n",
        "\n",
        "      # For training mode, we'll compute mask and apply to the attention score later\n",
        "      mask = torch.full((seq_len, seq_len),float(\"-inf\"),device=self.args.device)\n",
        "      mask = torch.triu(mask, diagonal=1).to(self.args.device)\n",
        "\n",
        "    # To compute attention, we'll need to perform a transpose operation to reshape all queries, keys and values bring heads at dim 1 and seq at dim 2\n",
        "    xq = xq.transpose(1,2)                  #xq[bsz,n_heads,seq_len,head_dim]\n",
        "    keys = keys.transpose(1,2)              #keys[bsz,n_heads,seq_len,head_dim]\n",
        "    values = values.transpose(1,2)          #values[bsz,n_heads,seq_len,head_dim]\n",
        "\n",
        "    # Computing attention score\n",
        "    scores = torch.matmul(xq, keys.transpose(2,3)).to(self.args.device)/math.sqrt(self.head_dim)\n",
        "    if mask is not None:\n",
        "      scores = scores + mask\n",
        "\n",
        "    # Apply softmax to the attention score\n",
        "    scores = F.softmax(scores.float(), dim=-1).type_as(xq)\n",
        "    # Matrix multiplication of attention score with the values\n",
        "    output = torch.matmul(scores, values).to(self.args.device)\n",
        "\n",
        "    # We get the contextual embedding for each head\n",
        "    # All heads need to be reshaped back and combined to give a single single contextual attention output\n",
        "    # Shape change: output[bsz,n_heads,seq_len,head_dim] -> output[bsz,seq_len, n_heads,head_dim] -> output[bsz,seq_len, n_heads * head_dim]\n",
        "    output = output.transpose(1,2).contiguous().view(bsz, seq_len, -1)\n",
        "\n",
        "    # shape: output [bsz,seq_len,dim]\n",
        "    return self.wo(output)\n",
        "\n",
        "# If the number of keys/values heads is less than query heads, this function expands the key/values embeddings with the required number of repetition\n",
        "def repeat_kv(x:torch.Tensor, n_rep: int)-> torch.Tensor:\n",
        "  bsz, seq_len, n_kv_heads, head_dim = x.shape\n",
        "  if n_rep == 1:\n",
        "    return x\n",
        "  return (\n",
        "      x[:,:,:,None,:]\n",
        "      .expand(bsz,seq_len,n_kv_heads,n_rep, head_dim)\n",
        "      .reshape(bsz,seq_len,n_kv_heads * n_rep, head_dim)\n",
        "  )\n",
        "\n",
        "\n",
        "### Test: Repeat_kv function ###\n",
        "# note: xk, x_norm is already calculated during RoPE, RMSNorm testing and is being used for testing here.\n",
        "# You need take out the triple quotes below to perform testing\n",
        "\"\"\"\n",
        "n_rep = ModelArgs.n_heads // ModelArgs.n_kv_heads\n",
        "keys = repeat_kv(xk, n_rep)\n",
        "print(f\"xk.shape: {xk.shape}\")\n",
        "print(f\"keys.shape: {keys.shape}\")\n",
        "\n",
        "## Test: Attention function\n",
        "# You need take out the triple quotes below to perform testing\n",
        "\n",
        "attention = Attention(ModelArgs)\n",
        "x_out = attention(x_norm,start_pos=0, inference=False)\n",
        "print(f\"x_out.shape: {x_out.shape}\")\n",
        "\"\"\"\n",
        "### Test Results: ###\n",
        "\"\"\"\n",
        "xk.shape: torch.Size([10, 256, 4, 64])\n",
        "keys.shape: torch.Size([10, 256, 8, 64])\n",
        "x_out.shape: torch.Size([10, 256, 512])\n",
        "\"\"\""
      ]
    },
    {
      "cell_type": "markdown",
      "metadata": {
        "id": "7MK_P5q1eJww"
      },
      "source": [
        "### Step 2e: The Feedforward Network (SwiGLU activation)"
      ]
    },
    {
      "cell_type": "code",
      "execution_count": null,
      "metadata": {
        "id": "hUkChYMqZjc8"
      },
      "outputs": [],
      "source": [
        "# Step 2e: The Feedforward Network (SwiGLU activation)\n",
        "class FeedForward(nn.Module):\n",
        "  def __init__(self, dim:int, hidden_dim: int, multiple_of:int, ffn_dim_multiplier: Optional[float]):\n",
        "    super().__init__()\n",
        "    # Models embedding dimension\n",
        "    self.dim = dim\n",
        "\n",
        "    # We must use the hidden dimensions calculation shared by Meta which is the ideal one for this model\n",
        "    # Hidden dimension are calculated such that it is a multiple of 256.\n",
        "    hidden_dim = int(2*hidden_dim/3)\n",
        "    if ffn_dim_multiplier is not None:\n",
        "      hidden_dim = int(ffn_dim_multiplier * hidden_dim)\n",
        "    hidden_dim = multiple_of * ((hidden_dim + multiple_of -1 ) // multiple_of)\n",
        "\n",
        "    # define hidden layers weight\n",
        "    self.w1 = nn.Linear(self.dim, hidden_dim, bias=False, device=device)\n",
        "    self.w2 = nn.Linear(hidden_dim, self.dim, bias=False, device=device)\n",
        "    self.w3 = nn.Linear(self.dim, hidden_dim, bias=False, device=device)\n",
        "\n",
        "  def forward(self, x):\n",
        "    # Shape: [bsz, seq_len, dim]\n",
        "    return self.w2(F.silu(self.w1(x)) * self.w3(x))\n",
        "\n",
        "  ### Test: FeedForward module ###\n",
        "  # note: x_out is already computed at Attention testing and is being used for testing here.\n",
        "  # You need to take out the triple quotes below to perform testing\n",
        "  \"\"\"\n",
        "  feed_forward = FeedForward(ModelArgs.dim, 4*ModelArgs.dim, ModelArgs.multiple_of, ModelArgs.ffn_dim_multiplier)\n",
        "  x_out = rms_norm(x_out)\n",
        "  x_out = feed_forward(x_out)\n",
        "  print(f\"feed forward output: x_out.shape: {x_out.shape}\")\n",
        "  \"\"\"\n",
        "\n",
        "  ### Test Results: ###\n",
        "  \"\"\"\n",
        "  feed forward output: x_out.shape: torcvh.Size([10, 256, 512])\n",
        "  \"\"\""
      ]
    },
    {
      "cell_type": "markdown",
      "metadata": {
        "id": "eCpw7yZTOTgD"
      },
      "source": [
        "### Step 2f: The Decoder Block."
      ]
    },
    {
      "cell_type": "code",
      "execution_count": null,
      "metadata": {
        "colab": {
          "base_uri": "https://localhost:8080/",
          "height": 35
        },
        "id": "gudDxZkKYXMZ",
        "outputId": "37f8509b-7402-4b1c-9d79-69e8c70b4dab"
      },
      "outputs": [
        {
          "data": {
            "application/vnd.google.colaboratory.intrinsic+json": {
              "type": "string"
            },
            "text/plain": [
              "'\\ntransformer_block_out.shape: torch.Size([10, 564, 128])\\n'"
            ]
          },
          "execution_count": 10,
          "metadata": {},
          "output_type": "execute_result"
        }
      ],
      "source": [
        "# Step 2f: The Decoder Block.\n",
        "# The class name is assigned as TransformerBlock\n",
        "\n",
        "class TransformerBlock(nn.Module):\n",
        "  def __init__(self, args: ModelArgs):\n",
        "    super().__init__()\n",
        "    self.args = args\n",
        "    # Initialize RMSNorm for attention\n",
        "    self.attention_norm = RMSNorm(dim=args.dim, eps=args.norm_eps)\n",
        "    # Initialize Attention class\n",
        "    self.attention = Attention(args)\n",
        "    # Initialize RMSNorm for feedforward class\n",
        "    self.ff_norm = RMSNorm(dim=args.dim, eps=args.norm_eps)\n",
        "    # Initialize feedforward class\n",
        "    self.feedforward = FeedForward(args.dim, 4*args.dim, args.multiple_of, args.ffn_dim_multiplier)\n",
        "\n",
        "  def forward(self, x, start_pos, inference):\n",
        "    # start_pos = token position for inference mdoe, inference = True for inference\n",
        "    # i) pass input embedding to attention_norm and then pass to attention block\n",
        "    # ii) the output of attention is then added to embedding(before norm)\n",
        "    h = x + self.attention(self.attention_norm(x), start_pos, inference)\n",
        "\n",
        "    # i) pass attention output to ff_norm and then pass to the feedforward network\n",
        "    # ii) the output of feedforward network is then added to the attention output (before ff_norm)\n",
        "    out = h + self.feedforward(self.ff_norm(h))\n",
        "    # Shape: [bsz, seq_len, dim]\n",
        "    return out\n",
        "\n",
        "### Test: TransformerBlock ###\n",
        "# You need take out the triple quotes belwo to perform testing\n",
        "\"\"\"\n",
        "x = torch.randn(ModelArgs.max_batch_size, ModelArgs.max_seq_len, ModelArgs.dim)\n",
        "transformer_block = TransformerBlock(ModelArgs)\n",
        "transformer_block_out = transformer_block(x, start_pos = 0, inference = False)\n",
        "print(f\"transformer_block_out.shape: {transformer_block_out.shape}\")\n",
        "\"\"\"\n",
        "## Test Results: ###\n",
        "\"\"\"\n",
        "transformer_block_out.shape: torch.Size([10, 564, 128])\n",
        "\"\"\"\n"
      ]
    },
    {
      "cell_type": "markdown",
      "metadata": {
        "id": "pMPHeeedYxy9"
      },
      "source": [
        "### Step3: The Output Block"
      ]
    },
    {
      "cell_type": "code",
      "execution_count": null,
      "metadata": {
        "colab": {
          "base_uri": "https://localhost:8080/",
          "height": 35
        },
        "id": "IsblN08PZK4Y",
        "outputId": "0cf77719-4033-45fb-c048-c7312404430d"
      },
      "outputs": [
        {
          "data": {
            "application/vnd.google.colaboratory.intrinsic+json": {
              "type": "string"
            },
            "text/plain": [
              "'\\nmodel = Transformer(ModelArgs).to(ModelArgs.device)\\nprint(model)\\n'"
            ]
          },
          "execution_count": 11,
          "metadata": {},
          "output_type": "execute_result"
        }
      ],
      "source": [
        "### Step 3: The Output Block\n",
        "# This is the Llama 3 model. Again, the class name is maintained as Transformer to match with Meta Llama 3 model.\n",
        "\n",
        "class Transformer(nn.Module):\n",
        "  def __init__(self, params: ModelArgs):\n",
        "    super().__init__()\n",
        "    # set all the ModelArgs in params variable\n",
        "    self.params = params\n",
        "    # Initialize embedding class from the input block\n",
        "    self.tok_embeddings = nn.Embedding(params.vocab_size, params.dim)\n",
        "\n",
        "    # Initialize the decoder block and store it inside the ModuleList.\n",
        "    # This is because we've 4 decoder blocks in our Llama 3 model. (Official Llama 3 has 32 blocks)\n",
        "    self.layers = nn.ModuleList()\n",
        "    for layer_id in range(params.n_layers):\n",
        "      self.layers.append(TransformerBlock(args=params))\n",
        "\n",
        "    # Initializate RMSNorm for the output block\n",
        "    self.norm = RMSNorm(params.dim, eps=params.norm_eps)\n",
        "\n",
        "    # Initializate linear layer at the output block.\n",
        "    self.output = nn.Linear(params.dim, params.vocab_size, bias=False)\n",
        "\n",
        "  def forward(self, x, start_pos=0, targets=None):\n",
        "    # start_pos = token position for inference mode, inference = True for inference and False for training mode\n",
        "    # x is the batch of token_ids generated from the texts or prompts using tokenizers.\n",
        "    # x[bsz, seq_len] -> h[bsz, seq_len, dim]\n",
        "    h = self.tok_embeddings(x)\n",
        "\n",
        "    # If the target is none, Inference mode is activated and set to \"True\" and \"False\" if Training mode is activated.\n",
        "    if targets is None:\n",
        "      inference = True\n",
        "    else:\n",
        "      inference = False\n",
        "\n",
        "    # The embeddings (h) will then pass though all the decoder blocks.\n",
        "    for layer in self.layers:\n",
        "      h = layer(h, start_pos, inference)\n",
        "\n",
        "    # The output from the final decoder block will feed into the RMSNorm\n",
        "    h = self.norm(h)\n",
        "\n",
        "    # After normalized, the embedding h will then feed into the Linear layer.\n",
        "    # The main task of the Linear layer is to generate logits that maps the embedding with the vocabulary size.\n",
        "    # h[bsz, seq_len, dim] -> logits[bsz, seq_len, vocab_size]\n",
        "    logits = self.output(h).float()\n",
        "    loss = None\n",
        "\n",
        "    # Inference mode is activated if the targets is not available\n",
        "    if targets is None:\n",
        "      loss = None\n",
        "    # Training mode is activated if the targets are available. And Loss will be calculated for further model training.\n",
        "    else:\n",
        "      loss = F.cross_entropy(logits.view(-1, self.params.vocab_size), targets.view(-1))\n",
        "\n",
        "    return logits, loss\n",
        "\n",
        "\n",
        "### Test: Transformer (Llama Model) ###\n",
        "# You need take out the triple quotes below to perform testing\n",
        "\"\"\"\n",
        "model = Transformer(ModelArgs).to(ModelArgs.device)\n",
        "print(model)\n",
        "\"\"\""
      ]
    },
    {
      "cell_type": "markdown",
      "metadata": {
        "id": "PTrI0UlRex5S"
      },
      "source": [
        "### Step 4: Train our Llama 3 model:"
      ]
    },
    {
      "cell_type": "code",
      "execution_count": null,
      "metadata": {
        "colab": {
          "base_uri": "https://localhost:8080/"
        },
        "id": "ZbfAPt3-exlg",
        "outputId": "9b2c90c0-471e-4137-c697-2a6a0f46ed67"
      },
      "outputs": [
        {
          "name": "stdout",
          "output_type": "stream",
          "text": [
            "dataset-shape: torch.Size([1115394])\n"
          ]
        }
      ],
      "source": [
        "# Step 4: Train our Llama 3 model:\n",
        "\n",
        "# Create a dataset by encoding the entire tiny_shakespeare data token_ids list using the tokenizer's encode function that we've built at the input block section\n",
        "dataset = torch.tensor(encode(data), dtype=torch.int).to(ModelArgs.device)\n",
        "print(f\"dataset-shape: {dataset.shape}\")\n",
        "\n",
        "# Define function to generate batches from the given dataset\n",
        "def get_dataset_batch(data, split, args:ModelArgs):\n",
        "  seq_len = args.max_seq_len\n",
        "  batch_size = args.max_batch_size\n",
        "  device = args.device\n",
        "\n",
        "  train = data[:int(0.8 * len(data))]\n",
        "  val = data[int(0.8 * len(data)): int(0.9 * len(data))]\n",
        "  test = data[int(0.9 * len(data)):]\n",
        "\n",
        "  batch_data = train\n",
        "  if split == \"val\":\n",
        "    batch_data = val\n",
        "\n",
        "  if split == \"test\":\n",
        "    batch_data = test\n",
        "\n",
        "  # Picking random starting points from the dataset to give random samples for logging and plotting\n",
        "  ix = torch.randint(0, len(batch_data) - seq_len -3, (batch_size,)).to(device)\n",
        "  x = torch.stack([torch.cat([token_bos, batch_data[i:i+seq_len-1]]) for i in ix]).long().to(device)\n",
        "  y = torch.stack([torch.cat([batch_data[i+1:i+seq_len], token_eos]) for i in ix]).long().to(device)\n",
        "\n",
        "  return x, y\n",
        "\n",
        "### Test: get_dataset function ###\n",
        "\"\"\"\n",
        "xs, ys = get_dataset_batch(dataset, split=\"train\", args=ModelArgs)\n",
        "print([(decoe(xs[i].tolist()), decode(ys[i].tolist())) for i in range(len(xs))])\n",
        "\"\"\"\n",
        "\n",
        "# Define a evaluate loss function to calculate and store training and validation\n",
        "@torch.no_grad()\n",
        "def evaluate_loss(model, args:ModelArgs):\n",
        "  out= {}\n",
        "  model.eval()\n",
        "\n",
        "  for split in [\"train\", \"val\"]:\n",
        "    losses = []\n",
        "    for _ in range(10):\n",
        "      xb, yb = get_dataset_batch(dataset, split, args)\n",
        "      _, loss = model(x=xb, targets=yb)\n",
        "      losses.append(loss.item())\n",
        "    out[split] = np.mean(losses)\n",
        "\n",
        "  model.train()\n",
        "  return out\n",
        "\n",
        "\n",
        "# Define a training function to perform model training\n",
        "def train(model, optimizer, args:ModelArgs):\n",
        "  epochs = args.epochs\n",
        "  log_interval = args.log_interval\n",
        "  device = args.device\n",
        "  losses = []\n",
        "  start_time = time.time()\n",
        "\n",
        "  for epoch in range(epochs):\n",
        "    optimizer.zero_grad()\n",
        "\n",
        "    xs, ys = get_dataset_batch(dataset, 'train', args)\n",
        "    xs = xs.to(device)\n",
        "    ys = ys.to(device)\n",
        "    logits, loss = model(x=xs, targets=ys)\n",
        "    loss.backward()\n",
        "    optimizer.step()\n",
        "\n",
        "    if epoch % log_interval == 0:\n",
        "      batch_time = time.time() - start_time\n",
        "      x = evaluate_loss(model, args)\n",
        "      losses += [x]\n",
        "      print(f\"Epoch {epoch} | val loss {x['val']:.3f} | Time{batch_time: .3f}\")\n",
        "      start_time = time.time()\n",
        "\n",
        "  # Print the final validation loss\n",
        "  print(\"validation loss: \", losses[-1]['val'])\n",
        "  # Display the interval losses in plot\n",
        "  return pd.DataFrame(losses).plot()\n"
      ]
    },
    {
      "cell_type": "markdown",
      "metadata": {
        "id": "171QzixX1dll"
      },
      "source": [
        "### Start training our Llama 3 model"
      ]
    },
    {
      "cell_type": "code",
      "execution_count": null,
      "metadata": {
        "colab": {
          "background_save": true,
          "base_uri": "https://localhost:8080/"
        },
        "id": "xZ2U17WiN7xE",
        "outputId": "76a4bbe5-0184-4a98-a8ad-fd9e513865a6"
      },
      "outputs": [
        {
          "name": "stdout",
          "output_type": "stream",
          "text": [
            "Epoch 0 | val loss 4.073 | Time 11.304\n",
            "Epoch 10 | val loss 3.026 | Time 96.336\n",
            "Epoch 20 | val loss 2.986 | Time 93.164\n",
            "Epoch 30 | val loss 2.966 | Time 107.565\n",
            "Epoch 40 | val loss 2.906 | Time 107.982\n",
            "Epoch 50 | val loss 2.914 | Time 88.185\n",
            "Epoch 60 | val loss 2.886 | Time 87.885\n",
            "Epoch 70 | val loss 2.848 | Time 86.946\n",
            "Epoch 80 | val loss 2.830 | Time 87.170\n",
            "Epoch 90 | val loss 2.791 | Time 86.835\n",
            "Epoch 100 | val loss 2.796 | Time 87.294\n",
            "Epoch 110 | val loss 2.791 | Time 87.130\n",
            "Epoch 120 | val loss 2.741 | Time 90.266\n",
            "Epoch 130 | val loss 2.729 | Time 87.090\n",
            "Epoch 140 | val loss 2.728 | Time 87.378\n",
            "Epoch 150 | val loss 2.708 | Time 86.890\n",
            "Epoch 160 | val loss 2.677 | Time 86.746\n",
            "Epoch 170 | val loss 2.652 | Time 87.927\n",
            "Epoch 180 | val loss 2.629 | Time 88.257\n",
            "Epoch 190 | val loss 2.632 | Time 87.580\n",
            "Epoch 200 | val loss 2.593 | Time 88.305\n",
            "Epoch 210 | val loss 2.602 | Time 88.412\n",
            "Epoch 220 | val loss 2.610 | Time 89.846\n",
            "Epoch 230 | val loss 2.570 | Time 87.791\n",
            "Epoch 240 | val loss 2.599 | Time 87.981\n",
            "Epoch 250 | val loss 2.558 | Time 88.000\n",
            "Epoch 260 | val loss 2.524 | Time 90.549\n",
            "Epoch 270 | val loss 2.527 | Time 88.110\n",
            "Epoch 280 | val loss 2.551 | Time 88.709\n",
            "Epoch 290 | val loss 2.537 | Time 91.134\n",
            "Epoch 300 | val loss 2.489 | Time 89.132\n",
            "Epoch 310 | val loss 2.454 | Time 90.772\n",
            "Epoch 320 | val loss 2.468 | Time 90.879\n",
            "Epoch 330 | val loss 2.455 | Time 91.985\n",
            "Epoch 340 | val loss 2.461 | Time 91.284\n",
            "Epoch 350 | val loss 2.467 | Time 93.304\n",
            "Epoch 360 | val loss 2.465 | Time 93.948\n",
            "Epoch 370 | val loss 2.503 | Time 93.642\n",
            "Epoch 380 | val loss 2.477 | Time 95.410\n",
            "Epoch 390 | val loss 2.465 | Time 95.571\n",
            "Epoch 400 | val loss 2.485 | Time 97.869\n",
            "Epoch 410 | val loss 2.450 | Time 98.073\n",
            "Epoch 420 | val loss 2.420 | Time 99.123\n",
            "Epoch 430 | val loss 2.466 | Time 101.513\n",
            "Epoch 440 | val loss 2.455 | Time 104.705\n",
            "Epoch 450 | val loss 2.432 | Time 108.413\n",
            "Epoch 460 | val loss 2.434 | Time 109.970\n",
            "Epoch 470 | val loss 2.392 | Time 108.128\n",
            "Epoch 480 | val loss 2.417 | Time 105.302\n",
            "Epoch 490 | val loss 2.429 | Time 110.173\n",
            "Epoch 500 | val loss 2.385 | Time 109.289\n",
            "Epoch 510 | val loss 2.395 | Time 109.946\n",
            "Epoch 520 | val loss 2.404 | Time 115.595\n",
            "Epoch 530 | val loss 2.360 | Time 115.328\n",
            "Epoch 540 | val loss 2.354 | Time 113.969\n",
            "Epoch 550 | val loss 2.371 | Time 113.397\n",
            "Epoch 560 | val loss 2.367 | Time 116.718\n",
            "Epoch 570 | val loss 2.380 | Time 113.796\n",
            "Epoch 580 | val loss 2.355 | Time 118.895\n",
            "Epoch 590 | val loss 2.363 | Time 122.693\n",
            "Epoch 600 | val loss 2.367 | Time 124.253\n",
            "Epoch 610 | val loss 2.392 | Time 119.582\n",
            "Epoch 620 | val loss 2.355 | Time 123.342\n",
            "Epoch 630 | val loss 2.380 | Time 124.857\n",
            "Epoch 640 | val loss 2.338 | Time 128.145\n",
            "Epoch 650 | val loss 2.372 | Time 127.387\n",
            "Epoch 660 | val loss 2.415 | Time 131.765\n",
            "Epoch 670 | val loss 2.330 | Time 132.253\n",
            "Epoch 680 | val loss 2.341 | Time 126.320\n",
            "Epoch 690 | val loss 2.348 | Time 128.219\n",
            "Epoch 700 | val loss 2.323 | Time 131.388\n",
            "Epoch 710 | val loss 2.349 | Time 133.710\n",
            "Epoch 720 | val loss 2.325 | Time 135.084\n",
            "Epoch 730 | val loss 2.300 | Time 134.373\n",
            "Epoch 740 | val loss 2.327 | Time 135.042\n",
            "Epoch 750 | val loss 2.338 | Time 139.283\n",
            "Epoch 760 | val loss 2.323 | Time 138.848\n",
            "Epoch 770 | val loss 2.325 | Time 144.007\n",
            "Epoch 780 | val loss 2.286 | Time 145.237\n",
            "Epoch 790 | val loss 2.305 | Time 144.005\n",
            "Epoch 800 | val loss 2.249 | Time 148.837\n",
            "Epoch 810 | val loss 2.294 | Time 149.898\n",
            "Epoch 820 | val loss 2.315 | Time 150.712\n",
            "Epoch 830 | val loss 2.282 | Time 151.122\n",
            "Epoch 840 | val loss 2.265 | Time 149.970\n",
            "Epoch 850 | val loss 2.274 | Time 154.127\n",
            "Epoch 860 | val loss 2.287 | Time 150.640\n",
            "Epoch 870 | val loss 2.272 | Time 148.525\n",
            "Epoch 880 | val loss 2.269 | Time 149.705\n",
            "Epoch 890 | val loss 2.297 | Time 155.245\n",
            "Epoch 900 | val loss 2.277 | Time 161.039\n",
            "Epoch 910 | val loss 2.268 | Time 155.987\n",
            "Epoch 920 | val loss 2.247 | Time 157.090\n",
            "Epoch 930 | val loss 2.252 | Time 159.688\n",
            "Epoch 940 | val loss 2.265 | Time 159.279\n",
            "Epoch 950 | val loss 2.252 | Time 158.642\n",
            "Epoch 960 | val loss 2.276 | Time 157.026\n",
            "Epoch 970 | val loss 2.251 | Time 160.485\n",
            "Epoch 980 | val loss 2.280 | Time 163.090\n",
            "Epoch 990 | val loss 2.267 | Time 158.807\n",
            "Epoch 1000 | val loss 2.244 | Time 160.646\n",
            "Epoch 1010 | val loss 2.263 | Time 161.648\n",
            "Epoch 1020 | val loss 2.255 | Time 162.863\n",
            "Epoch 1030 | val loss 2.292 | Time 161.993\n",
            "Epoch 1040 | val loss 2.254 | Time 161.492\n",
            "Epoch 1050 | val loss 2.243 | Time 164.118\n",
            "Epoch 1060 | val loss 2.245 | Time 167.449\n",
            "Epoch 1070 | val loss 2.264 | Time 168.440\n",
            "Epoch 1080 | val loss 2.200 | Time 172.263\n",
            "Epoch 1090 | val loss 2.270 | Time 173.101\n",
            "Epoch 1100 | val loss 2.248 | Time 172.866\n",
            "Epoch 1110 | val loss 2.254 | Time 172.811\n",
            "Epoch 1120 | val loss 2.257 | Time 171.234\n",
            "Epoch 1130 | val loss 2.228 | Time 176.457\n",
            "Epoch 1140 | val loss 2.260 | Time 171.408\n",
            "Epoch 1150 | val loss 2.223 | Time 171.775\n",
            "Epoch 1160 | val loss 2.258 | Time 174.947\n",
            "Epoch 1170 | val loss 2.269 | Time 171.238\n",
            "Epoch 1180 | val loss 2.245 | Time 173.676\n",
            "Epoch 1190 | val loss 2.237 | Time 173.420\n",
            "Epoch 1200 | val loss 2.230 | Time 175.878\n",
            "Epoch 1210 | val loss 2.225 | Time 173.594\n",
            "Epoch 1220 | val loss 2.218 | Time 178.613\n",
            "Epoch 1230 | val loss 2.236 | Time 178.007\n",
            "Epoch 1240 | val loss 2.257 | Time 177.285\n",
            "Epoch 1250 | val loss 2.225 | Time 178.622\n",
            "Epoch 1260 | val loss 2.232 | Time 180.935\n",
            "Epoch 1270 | val loss 2.230 | Time 180.845\n",
            "Epoch 1280 | val loss 2.244 | Time 179.226\n",
            "Epoch 1290 | val loss 2.238 | Time 179.621\n",
            "Epoch 1300 | val loss 2.241 | Time 182.594\n",
            "Epoch 1310 | val loss 2.243 | Time 187.793\n",
            "Epoch 1320 | val loss 2.233 | Time 187.396\n",
            "Epoch 1330 | val loss 2.236 | Time 187.203\n",
            "Epoch 1340 | val loss 2.281 | Time 187.521\n",
            "Epoch 1350 | val loss 2.204 | Time 185.498\n",
            "Epoch 1360 | val loss 2.173 | Time 184.879\n",
            "Epoch 1370 | val loss 2.200 | Time 188.645\n",
            "Epoch 1380 | val loss 2.203 | Time 184.970\n",
            "Epoch 1390 | val loss 2.212 | Time 190.136\n",
            "Epoch 1400 | val loss 2.184 | Time 189.122\n",
            "Epoch 1410 | val loss 2.186 | Time 190.711\n",
            "Epoch 1420 | val loss 2.252 | Time 191.224\n",
            "Epoch 1430 | val loss 2.213 | Time 192.870\n",
            "Epoch 1440 | val loss 2.239 | Time 189.680\n",
            "Epoch 1450 | val loss 2.235 | Time 188.552\n",
            "Epoch 1460 | val loss 2.230 | Time 189.776\n",
            "Epoch 1470 | val loss 2.216 | Time 190.792\n",
            "Epoch 1480 | val loss 2.193 | Time 190.919\n",
            "Epoch 1490 | val loss 2.130 | Time 189.467\n",
            "Epoch 1500 | val loss 2.209 | Time 191.617\n",
            "Epoch 1510 | val loss 2.199 | Time 191.205\n",
            "Epoch 1520 | val loss 2.254 | Time 191.028\n",
            "Epoch 1530 | val loss 2.168 | Time 192.915\n",
            "Epoch 1540 | val loss 2.179 | Time 194.552\n",
            "Epoch 1550 | val loss 2.179 | Time 196.466\n",
            "Epoch 1560 | val loss 2.212 | Time 193.724\n",
            "Epoch 1570 | val loss 2.176 | Time 194.063\n",
            "Epoch 1580 | val loss 2.202 | Time 195.248\n",
            "Epoch 1590 | val loss 2.184 | Time 198.002\n",
            "Epoch 1600 | val loss 2.231 | Time 200.234\n",
            "Epoch 1610 | val loss 2.234 | Time 198.510\n",
            "Epoch 1620 | val loss 2.163 | Time 197.638\n",
            "Epoch 1630 | val loss 2.183 | Time 199.474\n",
            "Epoch 1640 | val loss 2.205 | Time 198.586\n",
            "Epoch 1650 | val loss 2.189 | Time 198.869\n",
            "Epoch 1660 | val loss 2.180 | Time 198.866\n",
            "Epoch 1670 | val loss 2.207 | Time 198.042\n",
            "Epoch 1680 | val loss 2.240 | Time 201.201\n",
            "Epoch 1690 | val loss 2.161 | Time 199.854\n",
            "Epoch 1700 | val loss 2.187 | Time 200.226\n",
            "Epoch 1710 | val loss 2.170 | Time 201.059\n",
            "Epoch 1720 | val loss 2.170 | Time 200.966\n"
          ]
        }
      ],
      "source": [
        "model = Transformer(ModelArgs).to(ModelArgs.device)\n",
        "optimizer = torch.optim.Adam(model.parameters())\n",
        "\n",
        "train(model, optimizer, ModelArgs)"
      ]
    },
    {
      "cell_type": "markdown",
      "metadata": {
        "id": "MUrWZKXPHn9u"
      },
      "source": [
        "### Step 5: Inference Llama 3 Model"
      ]
    },
    {
      "cell_type": "code",
      "execution_count": null,
      "metadata": {
        "id": "co-dz92gIMBu"
      },
      "outputs": [],
      "source": [
        "## Step 5: Inference Llama 3 Model:\n",
        "## This function generates text sequences based on provided prompts using the Llama 3\n",
        "\n",
        "def generate(model, prompts: str, params: ModelArgs, max_gen_len: int=500, temperature: float = 0.6, top_p: float = 0.9):\n",
        "  # prompt_tokens: List of user input texts or prompts\n",
        "  # max_gen_len: Maximum length of the generated text sequence.\n",
        "  # temperature: Temperature value for controlling randomness in sampling. Defautls to 0.6.\n",
        "  # top_p: Top-p probability threshold for sampling prob otuput from the logits\n",
        "  # prompt_tokens = [0]\n",
        "  bsz = 1   # For inferencing, in general user just input one prompr which we'll\n",
        "  prompt_tokens = token_bos.tolist() + encode(prompts)\n",
        "  assert len(prompt_tokens) <= params.max_seq_len, \"prompt token length should be smll than max_seq_len\"\n",
        "  total_len = min(len(prompt_tokens) + max_gen_len, params.max_seq_len)\n",
        "\n",
        "  # this tokens matrix is to store the input prompts and all the ouptut that is generated by model.\n",
        "  # later we'll use the tokenizers decode function to decode this token to view results in text format\n",
        "  tokens = torch.full((bsz, total_len), fill_value = token_pad.item(), dtype = torch.long, device=params.device)\n",
        "\n",
        "  # fill in the prompt tokens into the token matrix\n",
        "  tokens[:, :len(prompt_tokens)] = torch.tensor(prompt_tokens, dtype = torch.long, device=params.device)\n",
        "\n",
        "  # create a prompt_mask_token for later use to identify if the token is a prompt\n",
        "  # True if it is a prompt token, False if it is a pdding token\n",
        "  input_text_mask = tokens != token_pad.item()\n",
        "\n",
        "  # now we can start inferencing using one token at a time from the prompt_token\n",
        "  prev_pos = 0\n",
        "  for cur_pos in range(1, total_len):\n",
        "    with torch.no_grad():\n",
        "      logits, _ = model(x=tokens[:, prev_pos:cur_pos], start_pos=prev_pos)\n",
        "    if temperature > 0:\n",
        "      probs = torch.softmax(logits[:, -1]/temperature, dim=-1)\n",
        "      next_token = sample_top_p(probs, top_p)\n",
        "    else:\n",
        "      next_token = torch.argmax(logits[:, -1], dim=-1)\n",
        "\n",
        "    next_token = next_token.reshape(-1)\n",
        "\n",
        "    # only replace the token if it's padding token\n",
        "    next_token = torch.where(input_text_mask[:, cur_pos], tokens[:, cur_pos], next_token)\n",
        "    tokens[:, cur_pos] = next_token\n",
        "\n",
        "    prev_pos = cur_pos\n",
        "    if tokens[:, cur_pos] == token_pad.item() and next_token == token_eos.item():\n",
        "      break\n",
        "\n",
        "    output_tokens, output_texts = [], []\n",
        "\n",
        "    for i, toks in enumerate(tokens.tolist()):\n",
        "      # eos_idx = toks.index(token_eos.item())\n",
        "      if token_eos.item() in toks:\n",
        "        eos_idx = toks.index(token_eos.item())\n",
        "        toks = toks[:eos_idx]\n",
        "\n",
        "      output_tokens.append(toks)\n",
        "      output_texts.append(decode(toks))\n",
        "    return output_tokens, output_texts\n",
        "\n",
        "# Perform top-p (nucleus) smapling on a probability distribution\n",
        "# Probs (torch.Tensor): Probability distribution tensor derived from the logits.\n",
        "# p: Probability threshold for top-p sampling.\n",
        "# According to the paper, Top-p sampling selects the smallest set of tokens who\n",
        "# The distribution is renormalizedbased on the selected tokens.\n",
        "def sample_top_p(probs, p):\n",
        "  probs_sort, prob_idx = torch.sort(probs, dim=-1, descending=True)\n",
        "  probs_sum = torch.cumsum(probs_sort, dim=-1)\n",
        "  mask = probs_sum - probs_sort > p\n",
        "  probs_sort[mask] = 0.0\n",
        "  probs_sort.div_(probs_sort.sum(dim=-1, keepdim=True))\n",
        "  next_token = torch.multinomial(probs_sort, num_samples=1)\n",
        "  next_token = torch.gather(prob_idx, -1, next_token)\n",
        "  # Sample token indicies from the vocabular is returned\n",
        "  return next_token\n"
      ]
    },
    {
      "cell_type": "code",
      "execution_count": null,
      "metadata": {
        "id": "J4Ul2dHcS8eK"
      },
      "outputs": [],
      "source": [
        "## Perform the inferencing on uer input prompts\n",
        "prompts = \"Consider you what services he has done\"\n",
        "output_tokens, output_texts = generate(model, prompts, ModelArgs)\n",
        "output_texts = output_texts[0].replace(\"<|being_of_text|>\", \"\")\n",
        "print(output_texts)\n",
        "\n",
        "## Output ##\n",
        "\"\"\"\n",
        "Consider you what services he has done o eretrane\n",
        "adetranytnn i eey i ade hs rcuh i eey,ad hsatsTns rpae,T\n",
        "eon o i hseflns o i eee ee hs ote i ocal ersl,Bnnlnface\n",
        "o i hmr a il nwye ademto nt i a ere\n",
        "h i ees.\n",
        "Frm oe o etrane o oregae,alh,t orede i oeral\n",
        "\"\"\""
      ]
    }
  ],
  "metadata": {
    "accelerator": "GPU",
    "colab": {
      "gpuType": "T4",
      "toc_visible": true,
      "provenance": [],
      "authorship_tag": "ABX9TyMxQExoms0v7Grd3J+cLGKo",
      "include_colab_link": true
    },
    "kernelspec": {
      "display_name": "Python 3",
      "name": "python3"
    },
    "language_info": {
      "name": "python"
    }
  },
  "nbformat": 4,
  "nbformat_minor": 0
}