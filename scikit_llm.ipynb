{
  "nbformat": 4,
  "nbformat_minor": 0,
  "metadata": {
    "colab": {
      "provenance": [],
      "authorship_tag": "ABX9TyNEmLCEymZI+/KHI4niCYWY",
      "include_colab_link": true
    },
    "kernelspec": {
      "name": "python3",
      "display_name": "Python 3"
    },
    "language_info": {
      "name": "python"
    }
  },
  "cells": [
    {
      "cell_type": "markdown",
      "metadata": {
        "id": "view-in-github",
        "colab_type": "text"
      },
      "source": [
        "<a href=\"https://colab.research.google.com/github/shinnew9/llms_from_scratch/blob/main/scikit_llm.ipynb\" target=\"_parent\"><img src=\"https://colab.research.google.com/assets/colab-badge.svg\" alt=\"Open In Colab\"/></a>"
      ]
    },
    {
      "cell_type": "markdown",
      "source": [
        "\n",
        "https://medium.com/@sayedebad.777/scikit-llm-scikit-learn-meets-large-language-models-986ff149abcc\n",
        "\n"
      ],
      "metadata": {
        "id": "aoc-CnJKVyNE"
      }
    },
    {
      "cell_type": "code",
      "execution_count": null,
      "metadata": {
        "id": "ob-2iKSyVDiJ"
      },
      "outputs": [],
      "source": [
        "from skllm.config import SKLLMConfig\n",
        "\n",
        "SKLLMConfig.set_openai_key(\"<YOUR_KEY> \")\n",
        "SKLLMConfig.set_openai_org(\"<YOUR ORGANIZATION_ID>\")"
      ]
    },
    {
      "cell_type": "code",
      "source": [
        "from skllm.config import SKLLMConfig\n",
        "# Found under: Resource Management (Left Sidebar) -> Kes and Endpoint -> KEY\n",
        "SKLLMConfig.set_gpt_key(\"<YOUR_KEY>\")\n",
        "# Found under: Resource Management (Left Sidebar)\n",
        "SKLLMConfig."
      ],
      "metadata": {
        "id": "ALiPaH2bVbEj"
      },
      "execution_count": null,
      "outputs": []
    }
  ]
}