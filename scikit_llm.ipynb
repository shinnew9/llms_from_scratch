{
  "nbformat": 4,
  "nbformat_minor": 0,
  "metadata": {
    "colab": {
      "provenance": [],
      "authorship_tag": "ABX9TyNVQyj3dxfHlsxfYWaok+Lx",
      "include_colab_link": true
    },
    "kernelspec": {
      "name": "python3",
      "display_name": "Python 3"
    },
    "language_info": {
      "name": "python"
    }
  },
  "cells": [
    {
      "cell_type": "markdown",
      "metadata": {
        "id": "view-in-github",
        "colab_type": "text"
      },
      "source": [
        "<a href=\"https://colab.research.google.com/github/shinnew9/llms_from_scratch/blob/main/scikit_llm.ipynb\" target=\"_parent\"><img src=\"https://colab.research.google.com/assets/colab-badge.svg\" alt=\"Open In Colab\"/></a>"
      ]
    },
    {
      "cell_type": "markdown",
      "source": [
        "\n",
        "https://medium.com/@sayedebad.777/scikit-llm-scikit-learn-meets-large-language-models-986ff149abcc\n",
        "\n"
      ],
      "metadata": {
        "id": "aoc-CnJKVyNE"
      }
    },
    {
      "cell_type": "code",
      "execution_count": null,
      "metadata": {
        "id": "ob-2iKSyVDiJ"
      },
      "outputs": [],
      "source": [
        "from skllm.config import SKLLMConfig\n",
        "\n",
        "SKLLMConfig.set_openai_key(\"<YOUR_KEY> \")\n",
        "SKLLMConfig.set_openai_org(\"<YOUR ORGANIZATION_ID>\")"
      ]
    },
    {
      "cell_type": "code",
      "source": [
        "from skllm.config import SKLLMConfig\n",
        "# Found under: Resource Management (Left Sidebar) -> Kes and Endpoint -> KEY\n",
        "SKLLMConfig.set_gpt_key(\"<YOUR_KEY>\")\n",
        "# Found under: Resource Management (Left Sidebar) -> Keys and Endpoint -> Endpoint\n",
        "SKLLMConfig.set_azure_api_base(\"<API_BASE>\")  # e.g. https://<YOUR_PROJECT_NAME>.openai.azure.com/"
      ],
      "metadata": {
        "id": "ALiPaH2bVbEj"
      },
      "execution_count": null,
      "outputs": []
    },
    {
      "cell_type": "code",
      "source": [
        "from skllm.config import SKLLMConfig\n",
        "\n",
        "SKLLMConfig.set_gguf_max_gpu_layers(-1)\n",
        "\n",
        "# 0: all layers on the GPU\n",
        "# -1: all layers on the GPU\n",
        "# n>0: n layers on the GPU, remaining on the CPU"
      ],
      "metadata": {
        "id": "VFCFTa7HXFHb"
      },
      "execution_count": null,
      "outputs": []
    },
    {
      "cell_type": "code",
      "source": [
        "from skllm.llm.gpt.clients.llama_cpp.handler import ModelCache\n",
        "ModelCache.clear()"
      ],
      "metadata": {
        "id": "04y24HX1Xd6a"
      },
      "execution_count": null,
      "outputs": []
    },
    {
      "cell_type": "code",
      "source": [
        "from skllm.config import SKLLMConfig\n",
        "\n",
        "SKLLMConfig.set_gpt_url(\"http://localhst:8000\")  # <- is it linked with\n",
        "ZeroShotGPTClassifier(model=\"custom_url::<custom_model_name>\")"
      ],
      "metadata": {
        "id": "JBXhR0wtXkOR"
      },
      "execution_count": null,
      "outputs": []
    }
  ]
}