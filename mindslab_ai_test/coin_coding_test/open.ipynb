{
 "cells": [
  {
   "cell_type": "code",
   "execution_count": 1,
   "metadata": {},
   "outputs": [
    {
     "name": "stdout",
     "output_type": "stream",
     "text": [
      "Requirement already satisfied: torch in c:\\users\\신유진\\appdata\\local\\programs\\python\\python312\\lib\\site-packages (2.3.1)\n",
      "Requirement already satisfied: filelock in c:\\users\\신유진\\appdata\\local\\programs\\python\\python312\\lib\\site-packages (from torch) (3.15.4)\n",
      "Requirement already satisfied: typing-extensions>=4.8.0 in c:\\users\\신유진\\appdata\\local\\programs\\python\\python312\\lib\\site-packages (from torch) (4.12.2)\n",
      "Requirement already satisfied: sympy in c:\\users\\신유진\\appdata\\local\\programs\\python\\python312\\lib\\site-packages (from torch) (1.13.1)\n",
      "Requirement already satisfied: networkx in c:\\users\\신유진\\appdata\\local\\programs\\python\\python312\\lib\\site-packages (from torch) (3.3)\n",
      "Requirement already satisfied: jinja2 in c:\\users\\신유진\\appdata\\local\\programs\\python\\python312\\lib\\site-packages (from torch) (3.1.4)\n",
      "Requirement already satisfied: fsspec in c:\\users\\신유진\\appdata\\local\\programs\\python\\python312\\lib\\site-packages (from torch) (2024.6.1)\n",
      "Requirement already satisfied: mkl<=2021.4.0,>=2021.1.1 in c:\\users\\신유진\\appdata\\local\\programs\\python\\python312\\lib\\site-packages (from torch) (2021.4.0)\n",
      "Requirement already satisfied: intel-openmp==2021.* in c:\\users\\신유진\\appdata\\local\\programs\\python\\python312\\lib\\site-packages (from mkl<=2021.4.0,>=2021.1.1->torch) (2021.4.0)\n",
      "Requirement already satisfied: tbb==2021.* in c:\\users\\신유진\\appdata\\local\\programs\\python\\python312\\lib\\site-packages (from mkl<=2021.4.0,>=2021.1.1->torch) (2021.13.0)\n",
      "Requirement already satisfied: MarkupSafe>=2.0 in c:\\users\\신유진\\appdata\\local\\programs\\python\\python312\\lib\\site-packages (from jinja2->torch) (2.1.5)\n",
      "Requirement already satisfied: mpmath<1.4,>=1.1.0 in c:\\users\\신유진\\appdata\\local\\programs\\python\\python312\\lib\\site-packages (from sympy->torch) (1.3.0)\n"
     ]
    }
   ],
   "source": [
    "!pip install torch"
   ]
  },
  {
   "cell_type": "code",
   "execution_count": 2,
   "metadata": {},
   "outputs": [],
   "source": [
    "import torch\n",
    "import os"
   ]
  },
  {
   "cell_type": "code",
   "execution_count": 3,
   "metadata": {},
   "outputs": [
    {
     "data": {
      "text/plain": [
       "'c:\\\\Users\\\\신유진\\\\workspaces\\\\vscodeprojects\\\\mindslab_ai_test\\\\coin_coding_test'"
      ]
     },
     "execution_count": 3,
     "metadata": {},
     "output_type": "execute_result"
    }
   ],
   "source": [
    "os.getcwd()"
   ]
  },
  {
   "cell_type": "code",
   "execution_count": 5,
   "metadata": {},
   "outputs": [
    {
     "name": "stdout",
     "output_type": "stream",
     "text": [
      "odict_keys(['mid.0.linear.weight', 'mid.0.linear.bias', 'mid.1.linear.weight', 'mid.1.linear.bias', 'mid.2.linear.weight', 'mid.2.linear.bias', 'mid.3.linear.weight', 'mid.3.linear.bias', 'mid.4.linear.weight', 'mid.4.linear.bias', 'mid.5.linear.weight', 'mid.5.linear.bias', 'model.0.linear.weight', 'model.0.linear.bias', 'model.1.linear.weight', 'model.1.linear.bias', 'model.2.linear.weight', 'model.2.linear.bias', 'model.3.linear.weight', 'model.3.linear.bias', 'model.4.linear.weight', 'model.4.linear.bias', 'model.5.linear.weight', 'model.5.linear.bias', 'model.6.linear.weight', 'model.6.linear.bias', 'model.7.linear.weight', 'model.7.linear.bias'])\n"
     ]
    }
   ],
   "source": [
    "import torch\n",
    "\n",
    "# Load the state_dict from the checkpoint\n",
    "checkpoint_path = \"./checkpoint/state_dict=78999.ckpt\"\n",
    "state_dict = torch.load(checkpoint_path)\n",
    "\n",
    "# Inspect the state_dict keys\n",
    "print(state_dict.keys())"
   ]
  },
  {
   "cell_type": "code",
   "execution_count": 6,
   "metadata": {},
   "outputs": [
    {
     "name": "stdout",
     "output_type": "stream",
     "text": [
      "Layer: mid.0.linear.weight, Shape: torch.Size([64, 64])\n",
      "Layer: mid.0.linear.bias, Shape: torch.Size([64])\n",
      "Layer: mid.1.linear.weight, Shape: torch.Size([64, 64])\n",
      "Layer: mid.1.linear.bias, Shape: torch.Size([64])\n",
      "Layer: mid.2.linear.weight, Shape: torch.Size([64, 64])\n",
      "Layer: mid.2.linear.bias, Shape: torch.Size([64])\n",
      "Layer: mid.3.linear.weight, Shape: torch.Size([64, 64])\n",
      "Layer: mid.3.linear.bias, Shape: torch.Size([64])\n",
      "Layer: mid.4.linear.weight, Shape: torch.Size([64, 64])\n",
      "Layer: mid.4.linear.bias, Shape: torch.Size([64])\n",
      "Layer: mid.5.linear.weight, Shape: torch.Size([64, 64])\n",
      "Layer: mid.5.linear.bias, Shape: torch.Size([64])\n",
      "Layer: model.0.linear.weight, Shape: torch.Size([64, 2])\n",
      "Layer: model.0.linear.bias, Shape: torch.Size([64])\n",
      "Layer: model.1.linear.weight, Shape: torch.Size([64, 64])\n",
      "Layer: model.1.linear.bias, Shape: torch.Size([64])\n",
      "Layer: model.2.linear.weight, Shape: torch.Size([64, 64])\n",
      "Layer: model.2.linear.bias, Shape: torch.Size([64])\n",
      "Layer: model.3.linear.weight, Shape: torch.Size([64, 64])\n",
      "Layer: model.3.linear.bias, Shape: torch.Size([64])\n",
      "Layer: model.4.linear.weight, Shape: torch.Size([64, 64])\n",
      "Layer: model.4.linear.bias, Shape: torch.Size([64])\n",
      "Layer: model.5.linear.weight, Shape: torch.Size([64, 64])\n",
      "Layer: model.5.linear.bias, Shape: torch.Size([64])\n",
      "Layer: model.6.linear.weight, Shape: torch.Size([64, 64])\n",
      "Layer: model.6.linear.bias, Shape: torch.Size([64])\n",
      "Layer: model.7.linear.weight, Shape: torch.Size([3, 64])\n",
      "Layer: model.7.linear.bias, Shape: torch.Size([3])\n"
     ]
    }
   ],
   "source": [
    "for key, value in state_dict.items():\n",
    "    print(f\"Layer: {key}, Shape: {value.shape}\")"
   ]
  },
  {
   "cell_type": "code",
   "execution_count": 7,
   "metadata": {},
   "outputs": [
    {
     "name": "stdout",
     "output_type": "stream",
     "text": [
      "odict_keys(['image_embedding.weight', 'mlp.0.weight', 'mlp.0.bias', 'mlp.2.weight', 'mlp.2.bias', 'mlp.4.weight', 'mlp.4.bias'])\n"
     ]
    }
   ],
   "source": [
    "from hyper_model import COINModel\n",
    "\n",
    "model = COINModel()  # Make sure COINModel is defined and matches the state_dict structure\n",
    "model.load_state_dict(state_dict, strict=False)  # Use strict=False to skip missing keys\n",
    "# Print the model's current state_dict keys\n",
    "print(model.state_dict().keys())"
   ]
  },
  {
   "cell_type": "code",
   "execution_count": 10,
   "metadata": {},
   "outputs": [
    {
     "ename": "KeyError",
     "evalue": "'./model_state_dict'",
     "output_type": "error",
     "traceback": [
      "\u001b[1;31m---------------------------------------------------------------------------\u001b[0m",
      "\u001b[1;31mKeyError\u001b[0m                                  Traceback (most recent call last)",
      "Cell \u001b[1;32mIn[10], line 6\u001b[0m\n\u001b[0;32m      3\u001b[0m \u001b[38;5;28;01mimport\u001b[39;00m \u001b[38;5;21;01mtorch\u001b[39;00m\u001b[38;5;21;01m.\u001b[39;00m\u001b[38;5;21;01moptim\u001b[39;00m \n\u001b[0;32m      5\u001b[0m checkpoint \u001b[38;5;241m=\u001b[39m torch\u001b[38;5;241m.\u001b[39mload(\u001b[38;5;124m'\u001b[39m\u001b[38;5;124m./checkpoint/state_dict=78999.ckpt\u001b[39m\u001b[38;5;124m'\u001b[39m)\n\u001b[1;32m----> 6\u001b[0m model\u001b[38;5;241m.\u001b[39mload_state_dict(\u001b[43mcheckpoint\u001b[49m\u001b[43m[\u001b[49m\u001b[38;5;124;43m'\u001b[39;49m\u001b[38;5;124;43m./model_state_dict\u001b[39;49m\u001b[38;5;124;43m'\u001b[39;49m\u001b[43m]\u001b[49m)\n\u001b[0;32m      7\u001b[0m optimizer \u001b[38;5;241m=\u001b[39m torch\u001b[38;5;241m.\u001b[39moptim\u001b[38;5;241m.\u001b[39mAdam(model\u001b[38;5;241m.\u001b[39mparameters(), lr\u001b[38;5;241m=\u001b[39m\u001b[38;5;241m1e-4\u001b[39m)  \u001b[38;5;66;03m# or your preferred optimizer\u001b[39;00m\n\u001b[0;32m      8\u001b[0m scheduler \u001b[38;5;241m=\u001b[39m torch\u001b[38;5;241m.\u001b[39moptim\u001b[38;5;241m.\u001b[39mlr_scheduler\u001b[38;5;241m.\u001b[39mStepLR(optimizer, step_size\u001b[38;5;241m=\u001b[39m\u001b[38;5;241m10\u001b[39m, gamma\u001b[38;5;241m=\u001b[39m\u001b[38;5;241m0.1\u001b[39m)  \u001b[38;5;66;03m# or your preferred scheduler\u001b[39;00m\n",
      "\u001b[1;31mKeyError\u001b[0m: './model_state_dict'"
     ]
    }
   ],
   "source": [
    "import torch\n",
    "import torch.nn as nn\n",
    "import torch.optim \n",
    "\n",
    "checkpoint = torch.load('./checkpoint/state_dict=78999.ckpt')\n",
    "model.load_state_dict(checkpoint['./model_state_dict'])\n",
    "optimizer = torch.optim.Adam(model.parameters(), lr=1e-4)  # or your preferred optimizer\n",
    "scheduler = torch.optim.lr_scheduler.StepLR(optimizer, step_size=10, gamma=0.1)  # or your preferred scheduler"
   ]
  },
  {
   "cell_type": "code",
   "execution_count": null,
   "metadata": {},
   "outputs": [],
   "source": [
    "for epoch in range(num_epochs):\n",
    "    model.train()  # Set the model to training mode\n",
    "    for batch in train_loader:\n",
    "        inputs, targets = batch  # Adjust based on your dataset\n",
    "        optimizer.zero_grad()  # Zero the gradients\n",
    "        outputs = model(inputs)  # Forward pass\n",
    "        loss = criterion(outputs, targets)  # Calculate the loss\n",
    "        loss.backward()  # Backward pass\n",
    "        optimizer.step()  # Update the weights\n",
    "    scheduler.step()  # Step the scheduler if you're using one"
   ]
  }
 ],
 "metadata": {
  "kernelspec": {
   "display_name": "Python 3",
   "language": "python",
   "name": "python3"
  },
  "language_info": {
   "codemirror_mode": {
    "name": "ipython",
    "version": 3
   },
   "file_extension": ".py",
   "mimetype": "text/x-python",
   "name": "python",
   "nbconvert_exporter": "python",
   "pygments_lexer": "ipython3",
   "version": "3.12.4"
  }
 },
 "nbformat": 4,
 "nbformat_minor": 2
}
